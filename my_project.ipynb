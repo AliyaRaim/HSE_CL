{
 "cells": [
  {
   "cell_type": "code",
   "execution_count": 1,
   "metadata": {},
   "outputs": [],
   "source": [
    "import requests\n",
    "from bs4 import BeautifulSoup\n",
    "import pandas as pd\n",
    "import codecs\n",
    "import re\n",
    "import time"
   ]
  },
  {
   "cell_type": "code",
   "execution_count": 2,
   "metadata": {},
   "outputs": [
    {
     "data": {
      "text/plain": [
       "<Response [200]>"
      ]
     },
     "execution_count": 2,
     "metadata": {},
     "output_type": "execute_result"
    }
   ],
   "source": [
    "url = 'https://allhockey.ru/'\n",
    "page = requests.get(url)\n",
    "time.sleep(1)\n",
    "page"
   ]
  },
  {
   "cell_type": "code",
   "execution_count": 3,
   "metadata": {},
   "outputs": [
    {
     "data": {
      "text/plain": [
       "['https://allhockey.ru/article/khl?offset=00&max=20.html',\n",
       " 'https://allhockey.ru/article/khl?offset=020&max=20.html',\n",
       " 'https://allhockey.ru/article/khl?offset=040&max=20.html',\n",
       " 'https://allhockey.ru/article/khl?offset=060&max=20.html',\n",
       " 'https://allhockey.ru/article/khl?offset=080&max=20.html',\n",
       " 'https://allhockey.ru/article/khl?offset=0100&max=20.html',\n",
       " 'https://allhockey.ru/article/khl?offset=0120&max=20.html',\n",
       " 'https://allhockey.ru/article/khl?offset=0140&max=20.html',\n",
       " 'https://allhockey.ru/article/khl?offset=0160&max=20.html',\n",
       " 'https://allhockey.ru/article/khl?offset=0180&max=20.html',\n",
       " 'https://allhockey.ru/article/khl?offset=0200&max=20.html',\n",
       " 'https://allhockey.ru/article/khl?offset=0220&max=20.html',\n",
       " 'https://allhockey.ru/article/khl?offset=0240&max=20.html',\n",
       " 'https://allhockey.ru/article/khl?offset=0260&max=20.html',\n",
       " 'https://allhockey.ru/article/khl?offset=0280&max=20.html',\n",
       " 'https://allhockey.ru/article/khl?offset=0300&max=20.html',\n",
       " 'https://allhockey.ru/article/khl?offset=0320&max=20.html',\n",
       " 'https://allhockey.ru/article/khl?offset=0340&max=20.html',\n",
       " 'https://allhockey.ru/article/khl?offset=0360&max=20.html',\n",
       " 'https://allhockey.ru/article/khl?offset=0380&max=20.html',\n",
       " 'https://allhockey.ru/article/khl?offset=0400&max=20.html',\n",
       " 'https://allhockey.ru/article/khl?offset=0420&max=20.html',\n",
       " 'https://allhockey.ru/article/khl?offset=0440&max=20.html',\n",
       " 'https://allhockey.ru/article/khl?offset=0460&max=20.html',\n",
       " 'https://allhockey.ru/article/khl?offset=0480&max=20.html',\n",
       " 'https://allhockey.ru/article/khl?offset=0500&max=20.html',\n",
       " 'https://allhockey.ru/article/khl?offset=0520&max=20.html',\n",
       " 'https://allhockey.ru/article/khl?offset=0540&max=20.html',\n",
       " 'https://allhockey.ru/article/khl?offset=0560&max=20.html',\n",
       " 'https://allhockey.ru/article/khl?offset=0580&max=20.html',\n",
       " 'https://allhockey.ru/article/khl?offset=0600&max=20.html',\n",
       " 'https://allhockey.ru/article/khl?offset=0620&max=20.html',\n",
       " 'https://allhockey.ru/article/khl?offset=0640&max=20.html',\n",
       " 'https://allhockey.ru/article/khl?offset=0660&max=20.html',\n",
       " 'https://allhockey.ru/article/khl?offset=0680&max=20.html',\n",
       " 'https://allhockey.ru/article/khl?offset=0700&max=20.html',\n",
       " 'https://allhockey.ru/article/khl?offset=0720&max=20.html',\n",
       " 'https://allhockey.ru/article/khl?offset=0740&max=20.html',\n",
       " 'https://allhockey.ru/article/khl?offset=0760&max=20.html',\n",
       " 'https://allhockey.ru/article/khl?offset=0780&max=20.html',\n",
       " 'https://allhockey.ru/article/khl?offset=0800&max=20.html',\n",
       " 'https://allhockey.ru/article/khl?offset=0820&max=20.html',\n",
       " 'https://allhockey.ru/article/khl?offset=0840&max=20.html',\n",
       " 'https://allhockey.ru/article/khl?offset=0860&max=20.html',\n",
       " 'https://allhockey.ru/article/khl?offset=0880&max=20.html',\n",
       " 'https://allhockey.ru/article/khl?offset=0900&max=20.html',\n",
       " 'https://allhockey.ru/article/khl?offset=0920&max=20.html',\n",
       " 'https://allhockey.ru/article/khl?offset=0940&max=20.html',\n",
       " 'https://allhockey.ru/article/khl?offset=0960&max=20.html',\n",
       " 'https://allhockey.ru/article/khl?offset=0980&max=20.html']"
      ]
     },
     "execution_count": 3,
     "metadata": {},
     "output_type": "execute_result"
    }
   ],
   "source": [
    "pages = []\n",
    "for i in range(0, 1000, 20):\n",
    "    pages.append('https://allhockey.ru/article/khl?offset=0' + str(i) + '&max=20'+'.html')\n",
    "    time.sleep(1)\n",
    "pages"
   ]
  },
  {
   "cell_type": "code",
   "execution_count": 4,
   "metadata": {},
   "outputs": [
    {
     "name": "stdout",
     "output_type": "stream",
     "text": [
      "50\n"
     ]
    }
   ],
   "source": [
    "print (len(pages))\n"
   ]
  },
  {
   "cell_type": "code",
   "execution_count": 5,
   "metadata": {},
   "outputs": [],
   "source": [
    "all_articles=[]\n",
    "\n",
    "\n",
    "for page in pages:\n",
    "    all_links = requests.get(page)\n",
    "    soup = BeautifulSoup(all_links.text, features=\"html.parser\")\n",
    "    content=soup.find_all('div', {'class': 'content'})\n",
    "    for i in content:\n",
    "        articles=i.find_all('a')\n",
    "        for article in articles:\n",
    "            href = article.get('href')  \n",
    "            if href.startswith('/article/show') and '#comments' not in href:  \n",
    "                all_articles.append ('https://allhockey.ru/' + href)\n",
    "                time.sleep(1)\n",
    "  "
   ]
  },
  {
   "cell_type": "code",
   "execution_count": 10,
   "metadata": {},
   "outputs": [
    {
     "name": "stdout",
     "output_type": "stream",
     "text": [
      "1000\n"
     ]
    }
   ],
   "source": [
    "print (len(all_articles))  \n"
   ]
  },
  {
   "cell_type": "code",
   "execution_count": 7,
   "metadata": {},
   "outputs": [
    {
     "name": "stdout",
     "output_type": "stream",
     "text": [
      "999\n",
      "1\n"
     ]
    }
   ],
   "source": [
    "texts = []\n",
    "fails=[]\n",
    "for article in all_articles:\n",
    "    try:\n",
    "        links = requests.get(article)\n",
    "        soup1 = BeautifulSoup(links.text, features=\"html.parser\")\n",
    "        for i in soup1.find_all('div', {'class' : \"ui grid material-content\"}):\n",
    "            text=i.find('div', {'itemprop': 'articleBody'})\n",
    "            text=text.text.strip()\n",
    "            texts.append(text)\n",
    "        time.sleep(5)\n",
    "    except :\n",
    "        fails.append(article)    \n",
    "                \n",
    "print (len(texts))\n",
    "print (len(fails))    \n",
    "\n",
    " "
   ]
  },
  {
   "cell_type": "code",
   "execution_count": 9,
   "metadata": {},
   "outputs": [
    {
     "name": "stdout",
     "output_type": "stream",
     "text": [
      "['https://allhockey.ru//article/show/514512-My_uvidim_netipichnyj_sed_moj_match_Metallurga_i_Avtomobilista_V_nem_budet_mnogo_golov']\n"
     ]
    }
   ],
   "source": [
    "print(fails)"
   ]
  },
  {
   "cell_type": "code",
   "execution_count": 11,
   "metadata": {},
   "outputs": [],
   "source": [
    "import os\n",
    "with open(\"khl_articles.txt\", \"w\", encoding=\"utf-8\") as file:\n",
    "    for text in texts:\n",
    "        file.write(text + \"\\n\")"
   ]
  },
  {
   "cell_type": "code",
   "execution_count": 12,
   "metadata": {},
   "outputs": [
    {
     "name": "stdout",
     "output_type": "stream",
     "text": [
      "c:\\Users\\Алия\\AppData\\Local\\Programs\\Microsoft VS Code\n"
     ]
    }
   ],
   "source": [
    "print(os.getcwd())"
   ]
  }
 ],
 "metadata": {
  "kernelspec": {
   "display_name": "Python 3",
   "language": "python",
   "name": "python3"
  },
  "language_info": {
   "codemirror_mode": {
    "name": "ipython",
    "version": 3
   },
   "file_extension": ".py",
   "mimetype": "text/x-python",
   "name": "python",
   "nbconvert_exporter": "python",
   "pygments_lexer": "ipython3",
   "version": "3.13.0"
  }
 },
 "nbformat": 4,
 "nbformat_minor": 2
}
